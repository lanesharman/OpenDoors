{
 "cells": [
  {
   "cell_type": "code",
   "execution_count": null,
   "metadata": {},
   "outputs": [],
   "source": [
    "import requests\n",
    "import pandas\n",
    "import config"
   ]
  },
  {
   "cell_type": "code",
   "execution_count": null,
   "metadata": {},
   "outputs": [],
   "source": [
    "table_id = '1'\n",
    "group_name = 'test2'\n",
    "\n",
    "\n",
    "url = 'https://www.ragic.com/ccedatabase/%s/%s?api&APIKey=%s' % (group_name, table_id, config.api)\n",
    "\n",
    "r = requests.get(url)\n",
    "r.json()\n"
   ]
  },
  {
   "cell_type": "code",
   "execution_count": null,
   "metadata": {},
   "outputs": [],
   "source": [
    "class RagicTools():\n",
    "    def __init__(self, table_id, group_name, api):\n",
    "        self.table_id = table_id\n",
    "        self.group_name = group_name\n",
    "        self.api = api\n",
    "        self.url = 'https://www.ragic.com/ccedatabase/%s/%s?api&APIKey=%s' % (self.group_name, self.table_id, self.api)\n",
    "    def get_table(self):\n",
    "        '''\n",
    "        gets table passed into constructor \n",
    "        '''\n",
    "        r = requests.get(self.url)\n",
    "        return r.json()\n",
    "    \n",
    "    def add_entry(self, entry):\n",
    "        '''\n",
    "        entry must look like this: \n",
    "        files = {\n",
    "            '1000114': (None, '8'),\n",
    "            '1000115': (None, 'column 1-2-3'),\n",
    "            '1000116': (None, 'column 2-2'),\n",
    "            '1000117': (None, 'column 3-2')\n",
    "        }\n",
    "        where the keys are the column ids that can be found in ragic\n",
    "        adds entry to table\n",
    "        '''\n",
    "       \n",
    "        r = requests.post(url, files = entry)\n",
    "        return r.json()\n",
    "\n",
    "    def delete_entry(self, row_id):\n",
    "        '''\n",
    "        deletes row in current table in \n",
    "        '''\n",
    "        row_id = str(row_id)\n",
    "        url = 'https://www.ragic.com/ccedatabase/%s/%s/%s?api&APIKey=%s' % (self.group_name, self.table_id, row_id, self.api)\n",
    "        r = requests.delete(url)\n",
    "        return r.json()\n",
    "\n",
    "    def update_entry(self, row_id, updated_entry):\n",
    "        '''\n",
    "        updates given row with new data in group\n",
    "        entry must look like this:\n",
    "        updated_entry = {\n",
    "            '1000114': (None, '9'),\n",
    "            '1000115': (None, 'updated'),\n",
    "            '1000116': (None, 'from'),\n",
    "            '1000117': (None, 'script')\n",
    "        }\n",
    "\n",
    "        '''\n",
    "        row_id = str(row_id)\n",
    "        url = 'https://www.ragic.com/ccedatabase/%s/%s/%s?api&APIKey=%s' % (self.group_name, self.table_id, row_id, self.api)        \n",
    "        r = requests.post(url, updated_entry)\n",
    "        return r.json()\n",
    "    \n",
    "    def get_table_id(self):\n",
    "        return self.table_id\n",
    "    def get_group(self):\n",
    "        return self.group_name\n",
    "    \n",
    "\n"
   ]
  },
  {
   "cell_type": "code",
   "execution_count": null,
   "metadata": {},
   "outputs": [],
   "source": []
  },
  {
   "cell_type": "code",
   "execution_count": null,
   "metadata": {},
   "outputs": [],
   "source": []
  },
  {
   "cell_type": "code",
   "execution_count": null,
   "metadata": {},
   "outputs": [],
   "source": []
  },
  {
   "cell_type": "code",
   "execution_count": null,
   "metadata": {},
   "outputs": [],
   "source": [
    "# pandas.DataFrame(test_json).transpose()[['_ragicId', 'T1-ID', 'T11','T12','T13']].set_index('_ragicId')"
   ]
  },
  {
   "cell_type": "code",
   "execution_count": null,
   "metadata": {},
   "outputs": [],
   "source": []
  }
 ],
 "metadata": {
  "kernelspec": {
   "display_name": "Python 3",
   "language": "python",
   "name": "python3"
  },
  "language_info": {
   "codemirror_mode": {
    "name": "ipython",
    "version": 3
   },
   "file_extension": ".py",
   "mimetype": "text/x-python",
   "name": "python",
   "nbconvert_exporter": "python",
   "pygments_lexer": "ipython3",
   "version": "3.7.6"
  }
 },
 "nbformat": 4,
 "nbformat_minor": 4
}
